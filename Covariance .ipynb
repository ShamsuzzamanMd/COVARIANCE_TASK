{
 "cells": [
  {
   "cell_type": "markdown",
   "metadata": {},
   "source": [
    "<font size=15>Task 1</font>\n",
    "\n",
    "\n",
    "The normalizing constant is used to reduce any probability function to a probability density function with total probability of one. Normalization is a process through which values become normal or regular. In term of normalization process, covarriance values are not normalized. May be that is why we use normalized constant.\n",
    "\n",
    "Covariance is a measure of the relationship between two random variables. The metric evaluates how much – to what extent – the variables change together. In other words, it is essentially a measure of the variance between two variables (note that the variance of one variable equals the variance of the other variable). However, the metric does not assess the dependency between variables.\n",
    " \n",
    "\n",
    "\n",
    "\n",
    "In the sample variance and sample standard deviation, n-1 is being used instead of n where n is the number of observations of sample. This is used because it corrects the bias in the estimation of population variance. It also partially corrects the bias in the estimation of population standard deviation. When a sample is taken from a population then it is the representation of the population, but the actual mean of the population is unknown. The variance from this sample is uncorrected and it is called as the bias estimator of the of the population variance. Then the uncorrected sample variance is to multiply with the factor (n/n-1) to get an unbiased estimator of the population variance. This factor is called as Bassel´s correction. "
   ]
  },
  {
   "attachments": {},
   "cell_type": "markdown",
   "metadata": {},
   "source": [
    "<font size=15>Task no. 2</font>\n",
    "\n",
    "\n",
    "From the quation (B)\n",
    "\n",
    " \n",
    "\n",
    "X = 5, 12, 18, 23, 45\n",
    "Y = 2, 8, 18, 20, 28\n",
    "\n",
    "Cov(X, Y) = 146.1\n"
   ]
  },
  {
   "cell_type": "markdown",
   "metadata": {
    "ExecuteTime": {
     "end_time": "2019-07-12T08:59:11.280855Z",
     "start_time": "2019-07-12T08:59:11.272205Z"
    }
   },
   "source": [
    "<font size=15>Task no. 3</font>\n",
    "\n",
    "Cov(X, Y) = Σ ( Xi - X ) ( Yi - Y ) / N = Σ xiyi / N\n",
    "\n",
    "where\n",
    "\n",
    "- N is the number of scores in each set of data\n",
    "- X is the mean of the N scores in the first data set\n",
    "- Xi is the ithe raw score in the first set of scores\n",
    "- xi is the ith deviation score in the first set of scores\n",
    "- Y is the mean of the N scores in the second data set\n",
    "- Yi is the ithe raw score in the second set of scores\n",
    "- yi is the ith deviation score in the second set of scores\n",
    "Cov(X, Y) is the covariance of corresponding scores in the two sets of data"
   ]
  },
  {
   "cell_type": "markdown",
   "metadata": {},
   "source": [
    "<font size=15>Task no. 4</font>\n",
    "\n",
    "Bias of an estimator is the difference of the estimator´s expected value and the actual value of the parameter of estimation."
   ]
  },
  {
   "cell_type": "markdown",
   "metadata": {},
   "source": [
    "<font size=15>Task no. 5</font>\n",
    "\n",
    "Covariance matrices are always positive semidefinite. The variance of any random variable must be non-negetive. A covariance matrix is symmetric, so it can be said that all covariance are positive semidefinite.\n"
   ]
  },
  {
   "cell_type": "code",
   "execution_count": null,
   "metadata": {},
   "outputs": [],
   "source": []
  }
 ],
 "metadata": {
  "kernelspec": {
   "display_name": "Python 3",
   "language": "python",
   "name": "python3"
  },
  "language_info": {
   "codemirror_mode": {
    "name": "ipython",
    "version": 3
   },
   "file_extension": ".py",
   "mimetype": "text/x-python",
   "name": "python",
   "nbconvert_exporter": "python",
   "pygments_lexer": "ipython3",
   "version": "3.5.6"
  },
  "toc": {
   "base_numbering": 1,
   "nav_menu": {},
   "number_sections": true,
   "sideBar": true,
   "skip_h1_title": false,
   "title_cell": "Table of Contents",
   "title_sidebar": "Contents",
   "toc_cell": false,
   "toc_position": {},
   "toc_section_display": true,
   "toc_window_display": false
  },
  "varInspector": {
   "cols": {
    "lenName": 16,
    "lenType": 16,
    "lenVar": 40
   },
   "kernels_config": {
    "python": {
     "delete_cmd_postfix": "",
     "delete_cmd_prefix": "del ",
     "library": "var_list.py",
     "varRefreshCmd": "print(var_dic_list())"
    },
    "r": {
     "delete_cmd_postfix": ") ",
     "delete_cmd_prefix": "rm(",
     "library": "var_list.r",
     "varRefreshCmd": "cat(var_dic_list()) "
    }
   },
   "oldHeight": 122,
   "position": {
    "height": "40px",
    "left": "1170px",
    "right": "20px",
    "top": "120px",
    "width": "250px"
   },
   "types_to_exclude": [
    "module",
    "function",
    "builtin_function_or_method",
    "instance",
    "_Feature"
   ],
   "varInspector_section_display": "none",
   "window_display": true
  }
 },
 "nbformat": 4,
 "nbformat_minor": 2
}
